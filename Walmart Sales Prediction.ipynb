{
 "cells": [
  {
   "cell_type": "code",
   "execution_count": 1,
   "metadata": {},
   "outputs": [],
   "source": [
    "import pandas as pd"
   ]
  },
  {
   "cell_type": "code",
   "execution_count": 2,
   "metadata": {},
   "outputs": [],
   "source": [
    "walmart_df=pd.read_csv(\"/home/siddhu/Desktop/btp 2/walmart/features.csv\")"
   ]
  },
  {
   "cell_type": "code",
   "execution_count": 3,
   "metadata": {},
   "outputs": [
    {
     "data": {
      "text/html": [
       "<div>\n",
       "<style scoped>\n",
       "    .dataframe tbody tr th:only-of-type {\n",
       "        vertical-align: middle;\n",
       "    }\n",
       "\n",
       "    .dataframe tbody tr th {\n",
       "        vertical-align: top;\n",
       "    }\n",
       "\n",
       "    .dataframe thead th {\n",
       "        text-align: right;\n",
       "    }\n",
       "</style>\n",
       "<table border=\"1\" class=\"dataframe\">\n",
       "  <thead>\n",
       "    <tr style=\"text-align: right;\">\n",
       "      <th></th>\n",
       "      <th>Store</th>\n",
       "      <th>Date</th>\n",
       "      <th>Temperature</th>\n",
       "      <th>Fuel_Price</th>\n",
       "      <th>MarkDown1</th>\n",
       "      <th>MarkDown2</th>\n",
       "      <th>MarkDown3</th>\n",
       "      <th>MarkDown4</th>\n",
       "      <th>MarkDown5</th>\n",
       "      <th>CPI</th>\n",
       "      <th>Unemployment</th>\n",
       "      <th>IsHoliday</th>\n",
       "    </tr>\n",
       "  </thead>\n",
       "  <tbody>\n",
       "    <tr>\n",
       "      <th>0</th>\n",
       "      <td>1</td>\n",
       "      <td>2010-02-05</td>\n",
       "      <td>42.31</td>\n",
       "      <td>2.572</td>\n",
       "      <td>NaN</td>\n",
       "      <td>NaN</td>\n",
       "      <td>NaN</td>\n",
       "      <td>NaN</td>\n",
       "      <td>NaN</td>\n",
       "      <td>211.096358</td>\n",
       "      <td>8.106</td>\n",
       "      <td>False</td>\n",
       "    </tr>\n",
       "    <tr>\n",
       "      <th>1</th>\n",
       "      <td>1</td>\n",
       "      <td>2010-02-12</td>\n",
       "      <td>38.51</td>\n",
       "      <td>2.548</td>\n",
       "      <td>NaN</td>\n",
       "      <td>NaN</td>\n",
       "      <td>NaN</td>\n",
       "      <td>NaN</td>\n",
       "      <td>NaN</td>\n",
       "      <td>211.242170</td>\n",
       "      <td>8.106</td>\n",
       "      <td>True</td>\n",
       "    </tr>\n",
       "    <tr>\n",
       "      <th>2</th>\n",
       "      <td>1</td>\n",
       "      <td>2010-02-19</td>\n",
       "      <td>39.93</td>\n",
       "      <td>2.514</td>\n",
       "      <td>NaN</td>\n",
       "      <td>NaN</td>\n",
       "      <td>NaN</td>\n",
       "      <td>NaN</td>\n",
       "      <td>NaN</td>\n",
       "      <td>211.289143</td>\n",
       "      <td>8.106</td>\n",
       "      <td>False</td>\n",
       "    </tr>\n",
       "    <tr>\n",
       "      <th>3</th>\n",
       "      <td>1</td>\n",
       "      <td>2010-02-26</td>\n",
       "      <td>46.63</td>\n",
       "      <td>2.561</td>\n",
       "      <td>NaN</td>\n",
       "      <td>NaN</td>\n",
       "      <td>NaN</td>\n",
       "      <td>NaN</td>\n",
       "      <td>NaN</td>\n",
       "      <td>211.319643</td>\n",
       "      <td>8.106</td>\n",
       "      <td>False</td>\n",
       "    </tr>\n",
       "    <tr>\n",
       "      <th>4</th>\n",
       "      <td>1</td>\n",
       "      <td>2010-03-05</td>\n",
       "      <td>46.50</td>\n",
       "      <td>2.625</td>\n",
       "      <td>NaN</td>\n",
       "      <td>NaN</td>\n",
       "      <td>NaN</td>\n",
       "      <td>NaN</td>\n",
       "      <td>NaN</td>\n",
       "      <td>211.350143</td>\n",
       "      <td>8.106</td>\n",
       "      <td>False</td>\n",
       "    </tr>\n",
       "  </tbody>\n",
       "</table>\n",
       "</div>"
      ],
      "text/plain": [
       "   Store        Date  Temperature  Fuel_Price  MarkDown1  MarkDown2  \\\n",
       "0      1  2010-02-05        42.31       2.572        NaN        NaN   \n",
       "1      1  2010-02-12        38.51       2.548        NaN        NaN   \n",
       "2      1  2010-02-19        39.93       2.514        NaN        NaN   \n",
       "3      1  2010-02-26        46.63       2.561        NaN        NaN   \n",
       "4      1  2010-03-05        46.50       2.625        NaN        NaN   \n",
       "\n",
       "   MarkDown3  MarkDown4  MarkDown5         CPI  Unemployment  IsHoliday  \n",
       "0        NaN        NaN        NaN  211.096358         8.106      False  \n",
       "1        NaN        NaN        NaN  211.242170         8.106       True  \n",
       "2        NaN        NaN        NaN  211.289143         8.106      False  \n",
       "3        NaN        NaN        NaN  211.319643         8.106      False  \n",
       "4        NaN        NaN        NaN  211.350143         8.106      False  "
      ]
     },
     "execution_count": 3,
     "metadata": {},
     "output_type": "execute_result"
    }
   ],
   "source": [
    "walmart_df.head()"
   ]
  },
  {
   "cell_type": "code",
   "execution_count": 4,
   "metadata": {},
   "outputs": [
    {
     "data": {
      "text/plain": [
       "Store              0\n",
       "Date               0\n",
       "Temperature        0\n",
       "Fuel_Price         0\n",
       "MarkDown1       4158\n",
       "MarkDown2       5269\n",
       "MarkDown3       4577\n",
       "MarkDown4       4726\n",
       "MarkDown5       4140\n",
       "CPI              585\n",
       "Unemployment     585\n",
       "IsHoliday          0\n",
       "dtype: int64"
      ]
     },
     "execution_count": 4,
     "metadata": {},
     "output_type": "execute_result"
    }
   ],
   "source": [
    "walmart_df.isna().sum()"
   ]
  },
  {
   "cell_type": "code",
   "execution_count": 5,
   "metadata": {},
   "outputs": [],
   "source": [
    "mean_value1=walmart_df['MarkDown1'].mean()\n",
    "walmart_df['MarkDown1']=walmart_df['MarkDown1'].fillna(mean_value1)"
   ]
  },
  {
   "cell_type": "code",
   "execution_count": 6,
   "metadata": {},
   "outputs": [
    {
     "data": {
      "text/html": [
       "<div>\n",
       "<style scoped>\n",
       "    .dataframe tbody tr th:only-of-type {\n",
       "        vertical-align: middle;\n",
       "    }\n",
       "\n",
       "    .dataframe tbody tr th {\n",
       "        vertical-align: top;\n",
       "    }\n",
       "\n",
       "    .dataframe thead th {\n",
       "        text-align: right;\n",
       "    }\n",
       "</style>\n",
       "<table border=\"1\" class=\"dataframe\">\n",
       "  <thead>\n",
       "    <tr style=\"text-align: right;\">\n",
       "      <th></th>\n",
       "      <th>Store</th>\n",
       "      <th>Date</th>\n",
       "      <th>Temperature</th>\n",
       "      <th>Fuel_Price</th>\n",
       "      <th>MarkDown1</th>\n",
       "      <th>MarkDown2</th>\n",
       "      <th>MarkDown3</th>\n",
       "      <th>MarkDown4</th>\n",
       "      <th>MarkDown5</th>\n",
       "      <th>CPI</th>\n",
       "      <th>Unemployment</th>\n",
       "      <th>IsHoliday</th>\n",
       "    </tr>\n",
       "  </thead>\n",
       "  <tbody>\n",
       "    <tr>\n",
       "      <th>0</th>\n",
       "      <td>1</td>\n",
       "      <td>2010-02-05</td>\n",
       "      <td>42.31</td>\n",
       "      <td>2.572</td>\n",
       "      <td>7032.371786</td>\n",
       "      <td>NaN</td>\n",
       "      <td>NaN</td>\n",
       "      <td>NaN</td>\n",
       "      <td>NaN</td>\n",
       "      <td>211.096358</td>\n",
       "      <td>8.106</td>\n",
       "      <td>False</td>\n",
       "    </tr>\n",
       "    <tr>\n",
       "      <th>1</th>\n",
       "      <td>1</td>\n",
       "      <td>2010-02-12</td>\n",
       "      <td>38.51</td>\n",
       "      <td>2.548</td>\n",
       "      <td>7032.371786</td>\n",
       "      <td>NaN</td>\n",
       "      <td>NaN</td>\n",
       "      <td>NaN</td>\n",
       "      <td>NaN</td>\n",
       "      <td>211.242170</td>\n",
       "      <td>8.106</td>\n",
       "      <td>True</td>\n",
       "    </tr>\n",
       "    <tr>\n",
       "      <th>2</th>\n",
       "      <td>1</td>\n",
       "      <td>2010-02-19</td>\n",
       "      <td>39.93</td>\n",
       "      <td>2.514</td>\n",
       "      <td>7032.371786</td>\n",
       "      <td>NaN</td>\n",
       "      <td>NaN</td>\n",
       "      <td>NaN</td>\n",
       "      <td>NaN</td>\n",
       "      <td>211.289143</td>\n",
       "      <td>8.106</td>\n",
       "      <td>False</td>\n",
       "    </tr>\n",
       "    <tr>\n",
       "      <th>3</th>\n",
       "      <td>1</td>\n",
       "      <td>2010-02-26</td>\n",
       "      <td>46.63</td>\n",
       "      <td>2.561</td>\n",
       "      <td>7032.371786</td>\n",
       "      <td>NaN</td>\n",
       "      <td>NaN</td>\n",
       "      <td>NaN</td>\n",
       "      <td>NaN</td>\n",
       "      <td>211.319643</td>\n",
       "      <td>8.106</td>\n",
       "      <td>False</td>\n",
       "    </tr>\n",
       "    <tr>\n",
       "      <th>4</th>\n",
       "      <td>1</td>\n",
       "      <td>2010-03-05</td>\n",
       "      <td>46.50</td>\n",
       "      <td>2.625</td>\n",
       "      <td>7032.371786</td>\n",
       "      <td>NaN</td>\n",
       "      <td>NaN</td>\n",
       "      <td>NaN</td>\n",
       "      <td>NaN</td>\n",
       "      <td>211.350143</td>\n",
       "      <td>8.106</td>\n",
       "      <td>False</td>\n",
       "    </tr>\n",
       "  </tbody>\n",
       "</table>\n",
       "</div>"
      ],
      "text/plain": [
       "   Store        Date  Temperature  Fuel_Price    MarkDown1  MarkDown2  \\\n",
       "0      1  2010-02-05        42.31       2.572  7032.371786        NaN   \n",
       "1      1  2010-02-12        38.51       2.548  7032.371786        NaN   \n",
       "2      1  2010-02-19        39.93       2.514  7032.371786        NaN   \n",
       "3      1  2010-02-26        46.63       2.561  7032.371786        NaN   \n",
       "4      1  2010-03-05        46.50       2.625  7032.371786        NaN   \n",
       "\n",
       "   MarkDown3  MarkDown4  MarkDown5         CPI  Unemployment  IsHoliday  \n",
       "0        NaN        NaN        NaN  211.096358         8.106      False  \n",
       "1        NaN        NaN        NaN  211.242170         8.106       True  \n",
       "2        NaN        NaN        NaN  211.289143         8.106      False  \n",
       "3        NaN        NaN        NaN  211.319643         8.106      False  \n",
       "4        NaN        NaN        NaN  211.350143         8.106      False  "
      ]
     },
     "execution_count": 6,
     "metadata": {},
     "output_type": "execute_result"
    }
   ],
   "source": [
    "walmart_df.head()"
   ]
  },
  {
   "cell_type": "code",
   "execution_count": 7,
   "metadata": {},
   "outputs": [],
   "source": [
    "mean_value2=walmart_df['MarkDown2'].mean()\n",
    "walmart_df['MarkDown2']=walmart_df['MarkDown2'].fillna(mean_value2)\n",
    "mean_value3=walmart_df['MarkDown3'].mean()\n",
    "walmart_df['MarkDown3']=walmart_df['MarkDown3'].fillna(mean_value3)\n",
    "mean_value4=walmart_df['MarkDown4'].mean()\n",
    "walmart_df['MarkDown4']=walmart_df['MarkDown4'].fillna(mean_value4)\n",
    "mean_value5=walmart_df['MarkDown5'].mean()\n",
    "walmart_df['MarkDown5']=walmart_df['MarkDown5'].fillna(mean_value5)"
   ]
  },
  {
   "cell_type": "code",
   "execution_count": 8,
   "metadata": {},
   "outputs": [
    {
     "data": {
      "text/html": [
       "<div>\n",
       "<style scoped>\n",
       "    .dataframe tbody tr th:only-of-type {\n",
       "        vertical-align: middle;\n",
       "    }\n",
       "\n",
       "    .dataframe tbody tr th {\n",
       "        vertical-align: top;\n",
       "    }\n",
       "\n",
       "    .dataframe thead th {\n",
       "        text-align: right;\n",
       "    }\n",
       "</style>\n",
       "<table border=\"1\" class=\"dataframe\">\n",
       "  <thead>\n",
       "    <tr style=\"text-align: right;\">\n",
       "      <th></th>\n",
       "      <th>Store</th>\n",
       "      <th>Date</th>\n",
       "      <th>Temperature</th>\n",
       "      <th>Fuel_Price</th>\n",
       "      <th>MarkDown1</th>\n",
       "      <th>MarkDown2</th>\n",
       "      <th>MarkDown3</th>\n",
       "      <th>MarkDown4</th>\n",
       "      <th>MarkDown5</th>\n",
       "      <th>CPI</th>\n",
       "      <th>Unemployment</th>\n",
       "      <th>IsHoliday</th>\n",
       "    </tr>\n",
       "  </thead>\n",
       "  <tbody>\n",
       "    <tr>\n",
       "      <th>0</th>\n",
       "      <td>1</td>\n",
       "      <td>2010-02-05</td>\n",
       "      <td>42.31</td>\n",
       "      <td>2.572</td>\n",
       "      <td>7032.371786</td>\n",
       "      <td>3384.176594</td>\n",
       "      <td>1760.10018</td>\n",
       "      <td>3292.935886</td>\n",
       "      <td>4132.216422</td>\n",
       "      <td>211.096358</td>\n",
       "      <td>8.106</td>\n",
       "      <td>False</td>\n",
       "    </tr>\n",
       "    <tr>\n",
       "      <th>1</th>\n",
       "      <td>1</td>\n",
       "      <td>2010-02-12</td>\n",
       "      <td>38.51</td>\n",
       "      <td>2.548</td>\n",
       "      <td>7032.371786</td>\n",
       "      <td>3384.176594</td>\n",
       "      <td>1760.10018</td>\n",
       "      <td>3292.935886</td>\n",
       "      <td>4132.216422</td>\n",
       "      <td>211.242170</td>\n",
       "      <td>8.106</td>\n",
       "      <td>True</td>\n",
       "    </tr>\n",
       "    <tr>\n",
       "      <th>2</th>\n",
       "      <td>1</td>\n",
       "      <td>2010-02-19</td>\n",
       "      <td>39.93</td>\n",
       "      <td>2.514</td>\n",
       "      <td>7032.371786</td>\n",
       "      <td>3384.176594</td>\n",
       "      <td>1760.10018</td>\n",
       "      <td>3292.935886</td>\n",
       "      <td>4132.216422</td>\n",
       "      <td>211.289143</td>\n",
       "      <td>8.106</td>\n",
       "      <td>False</td>\n",
       "    </tr>\n",
       "    <tr>\n",
       "      <th>3</th>\n",
       "      <td>1</td>\n",
       "      <td>2010-02-26</td>\n",
       "      <td>46.63</td>\n",
       "      <td>2.561</td>\n",
       "      <td>7032.371786</td>\n",
       "      <td>3384.176594</td>\n",
       "      <td>1760.10018</td>\n",
       "      <td>3292.935886</td>\n",
       "      <td>4132.216422</td>\n",
       "      <td>211.319643</td>\n",
       "      <td>8.106</td>\n",
       "      <td>False</td>\n",
       "    </tr>\n",
       "    <tr>\n",
       "      <th>4</th>\n",
       "      <td>1</td>\n",
       "      <td>2010-03-05</td>\n",
       "      <td>46.50</td>\n",
       "      <td>2.625</td>\n",
       "      <td>7032.371786</td>\n",
       "      <td>3384.176594</td>\n",
       "      <td>1760.10018</td>\n",
       "      <td>3292.935886</td>\n",
       "      <td>4132.216422</td>\n",
       "      <td>211.350143</td>\n",
       "      <td>8.106</td>\n",
       "      <td>False</td>\n",
       "    </tr>\n",
       "  </tbody>\n",
       "</table>\n",
       "</div>"
      ],
      "text/plain": [
       "   Store        Date  Temperature  Fuel_Price    MarkDown1    MarkDown2  \\\n",
       "0      1  2010-02-05        42.31       2.572  7032.371786  3384.176594   \n",
       "1      1  2010-02-12        38.51       2.548  7032.371786  3384.176594   \n",
       "2      1  2010-02-19        39.93       2.514  7032.371786  3384.176594   \n",
       "3      1  2010-02-26        46.63       2.561  7032.371786  3384.176594   \n",
       "4      1  2010-03-05        46.50       2.625  7032.371786  3384.176594   \n",
       "\n",
       "    MarkDown3    MarkDown4    MarkDown5         CPI  Unemployment  IsHoliday  \n",
       "0  1760.10018  3292.935886  4132.216422  211.096358         8.106      False  \n",
       "1  1760.10018  3292.935886  4132.216422  211.242170         8.106       True  \n",
       "2  1760.10018  3292.935886  4132.216422  211.289143         8.106      False  \n",
       "3  1760.10018  3292.935886  4132.216422  211.319643         8.106      False  \n",
       "4  1760.10018  3292.935886  4132.216422  211.350143         8.106      False  "
      ]
     },
     "execution_count": 8,
     "metadata": {},
     "output_type": "execute_result"
    }
   ],
   "source": [
    "walmart_df.head()"
   ]
  },
  {
   "cell_type": "code",
   "execution_count": 9,
   "metadata": {},
   "outputs": [],
   "source": [
    "median1=walmart_df['CPI'].median()\n",
    "walmart_df['CPI']=walmart_df['CPI'].fillna(median1)\n",
    "median2=walmart_df['Unemployment'].median()\n",
    "walmart_df['Unemployment']=walmart_df['Unemployment'].fillna(median2)"
   ]
  },
  {
   "cell_type": "code",
   "execution_count": 10,
   "metadata": {},
   "outputs": [
    {
     "data": {
      "text/plain": [
       "Store           0\n",
       "Date            0\n",
       "Temperature     0\n",
       "Fuel_Price      0\n",
       "MarkDown1       0\n",
       "MarkDown2       0\n",
       "MarkDown3       0\n",
       "MarkDown4       0\n",
       "MarkDown5       0\n",
       "CPI             0\n",
       "Unemployment    0\n",
       "IsHoliday       0\n",
       "dtype: int64"
      ]
     },
     "execution_count": 10,
     "metadata": {},
     "output_type": "execute_result"
    }
   ],
   "source": [
    "walmart_df.isna().sum()"
   ]
  },
  {
   "cell_type": "code",
   "execution_count": 11,
   "metadata": {},
   "outputs": [
    {
     "data": {
      "text/html": [
       "<div>\n",
       "<style scoped>\n",
       "    .dataframe tbody tr th:only-of-type {\n",
       "        vertical-align: middle;\n",
       "    }\n",
       "\n",
       "    .dataframe tbody tr th {\n",
       "        vertical-align: top;\n",
       "    }\n",
       "\n",
       "    .dataframe thead th {\n",
       "        text-align: right;\n",
       "    }\n",
       "</style>\n",
       "<table border=\"1\" class=\"dataframe\">\n",
       "  <thead>\n",
       "    <tr style=\"text-align: right;\">\n",
       "      <th></th>\n",
       "      <th>Store</th>\n",
       "      <th>Temperature</th>\n",
       "      <th>Fuel_Price</th>\n",
       "      <th>MarkDown1</th>\n",
       "      <th>MarkDown2</th>\n",
       "      <th>MarkDown3</th>\n",
       "      <th>MarkDown4</th>\n",
       "      <th>MarkDown5</th>\n",
       "      <th>CPI</th>\n",
       "      <th>Unemployment</th>\n",
       "    </tr>\n",
       "  </thead>\n",
       "  <tbody>\n",
       "    <tr>\n",
       "      <th>count</th>\n",
       "      <td>8190.000000</td>\n",
       "      <td>8190.000000</td>\n",
       "      <td>8190.000000</td>\n",
       "      <td>8190.000000</td>\n",
       "      <td>8190.000000</td>\n",
       "      <td>8190.000000</td>\n",
       "      <td>8190.000000</td>\n",
       "      <td>8190.000000</td>\n",
       "      <td>8190.000000</td>\n",
       "      <td>8190.000000</td>\n",
       "    </tr>\n",
       "    <tr>\n",
       "      <th>mean</th>\n",
       "      <td>23.000000</td>\n",
       "      <td>59.356198</td>\n",
       "      <td>3.405992</td>\n",
       "      <td>7032.371786</td>\n",
       "      <td>3384.176594</td>\n",
       "      <td>1760.100180</td>\n",
       "      <td>3292.935886</td>\n",
       "      <td>4132.216422</td>\n",
       "      <td>173.196752</td>\n",
       "      <td>7.825334</td>\n",
       "    </tr>\n",
       "    <tr>\n",
       "      <th>std</th>\n",
       "      <td>12.987966</td>\n",
       "      <td>18.678607</td>\n",
       "      <td>0.431337</td>\n",
       "      <td>6498.764307</td>\n",
       "      <td>5250.998063</td>\n",
       "      <td>7489.128873</td>\n",
       "      <td>4417.022169</td>\n",
       "      <td>9202.128149</td>\n",
       "      <td>38.384486</td>\n",
       "      <td>1.808971</td>\n",
       "    </tr>\n",
       "    <tr>\n",
       "      <th>min</th>\n",
       "      <td>1.000000</td>\n",
       "      <td>-7.290000</td>\n",
       "      <td>2.472000</td>\n",
       "      <td>-2781.450000</td>\n",
       "      <td>-265.760000</td>\n",
       "      <td>-179.260000</td>\n",
       "      <td>0.220000</td>\n",
       "      <td>-185.170000</td>\n",
       "      <td>126.064000</td>\n",
       "      <td>3.684000</td>\n",
       "    </tr>\n",
       "    <tr>\n",
       "      <th>25%</th>\n",
       "      <td>12.000000</td>\n",
       "      <td>45.902500</td>\n",
       "      <td>3.041000</td>\n",
       "      <td>4842.382500</td>\n",
       "      <td>1410.940000</td>\n",
       "      <td>54.017500</td>\n",
       "      <td>1737.530000</td>\n",
       "      <td>2753.105000</td>\n",
       "      <td>132.653774</td>\n",
       "      <td>6.833000</td>\n",
       "    </tr>\n",
       "    <tr>\n",
       "      <th>50%</th>\n",
       "      <td>23.000000</td>\n",
       "      <td>60.710000</td>\n",
       "      <td>3.513000</td>\n",
       "      <td>7032.371786</td>\n",
       "      <td>3384.176594</td>\n",
       "      <td>1760.100180</td>\n",
       "      <td>3292.935886</td>\n",
       "      <td>4132.216422</td>\n",
       "      <td>182.764003</td>\n",
       "      <td>7.806000</td>\n",
       "    </tr>\n",
       "    <tr>\n",
       "      <th>75%</th>\n",
       "      <td>34.000000</td>\n",
       "      <td>73.880000</td>\n",
       "      <td>3.743000</td>\n",
       "      <td>7032.371786</td>\n",
       "      <td>3384.176594</td>\n",
       "      <td>1760.100180</td>\n",
       "      <td>3292.935886</td>\n",
       "      <td>4132.216422</td>\n",
       "      <td>212.766994</td>\n",
       "      <td>8.519000</td>\n",
       "    </tr>\n",
       "    <tr>\n",
       "      <th>max</th>\n",
       "      <td>45.000000</td>\n",
       "      <td>101.950000</td>\n",
       "      <td>4.468000</td>\n",
       "      <td>103184.980000</td>\n",
       "      <td>104519.540000</td>\n",
       "      <td>149483.310000</td>\n",
       "      <td>67474.850000</td>\n",
       "      <td>771448.100000</td>\n",
       "      <td>228.976456</td>\n",
       "      <td>14.313000</td>\n",
       "    </tr>\n",
       "  </tbody>\n",
       "</table>\n",
       "</div>"
      ],
      "text/plain": [
       "             Store  Temperature   Fuel_Price      MarkDown1      MarkDown2  \\\n",
       "count  8190.000000  8190.000000  8190.000000    8190.000000    8190.000000   \n",
       "mean     23.000000    59.356198     3.405992    7032.371786    3384.176594   \n",
       "std      12.987966    18.678607     0.431337    6498.764307    5250.998063   \n",
       "min       1.000000    -7.290000     2.472000   -2781.450000    -265.760000   \n",
       "25%      12.000000    45.902500     3.041000    4842.382500    1410.940000   \n",
       "50%      23.000000    60.710000     3.513000    7032.371786    3384.176594   \n",
       "75%      34.000000    73.880000     3.743000    7032.371786    3384.176594   \n",
       "max      45.000000   101.950000     4.468000  103184.980000  104519.540000   \n",
       "\n",
       "           MarkDown3     MarkDown4      MarkDown5          CPI  Unemployment  \n",
       "count    8190.000000   8190.000000    8190.000000  8190.000000   8190.000000  \n",
       "mean     1760.100180   3292.935886    4132.216422   173.196752      7.825334  \n",
       "std      7489.128873   4417.022169    9202.128149    38.384486      1.808971  \n",
       "min      -179.260000      0.220000    -185.170000   126.064000      3.684000  \n",
       "25%        54.017500   1737.530000    2753.105000   132.653774      6.833000  \n",
       "50%      1760.100180   3292.935886    4132.216422   182.764003      7.806000  \n",
       "75%      1760.100180   3292.935886    4132.216422   212.766994      8.519000  \n",
       "max    149483.310000  67474.850000  771448.100000   228.976456     14.313000  "
      ]
     },
     "execution_count": 11,
     "metadata": {},
     "output_type": "execute_result"
    }
   ],
   "source": [
    "walmart_df.describe()"
   ]
  },
  {
   "cell_type": "code",
   "execution_count": 12,
   "metadata": {},
   "outputs": [
    {
     "data": {
      "text/plain": [
       "(8190, 12)"
      ]
     },
     "execution_count": 12,
     "metadata": {},
     "output_type": "execute_result"
    }
   ],
   "source": [
    "walmart_df.shape"
   ]
  },
  {
   "cell_type": "code",
   "execution_count": 13,
   "metadata": {},
   "outputs": [
    {
     "name": "stdout",
     "output_type": "stream",
     "text": [
      "<class 'pandas.core.frame.DataFrame'>\n",
      "RangeIndex: 8190 entries, 0 to 8189\n",
      "Data columns (total 12 columns):\n",
      "Store           8190 non-null int64\n",
      "Date            8190 non-null object\n",
      "Temperature     8190 non-null float64\n",
      "Fuel_Price      8190 non-null float64\n",
      "MarkDown1       8190 non-null float64\n",
      "MarkDown2       8190 non-null float64\n",
      "MarkDown3       8190 non-null float64\n",
      "MarkDown4       8190 non-null float64\n",
      "MarkDown5       8190 non-null float64\n",
      "CPI             8190 non-null float64\n",
      "Unemployment    8190 non-null float64\n",
      "IsHoliday       8190 non-null bool\n",
      "dtypes: bool(1), float64(9), int64(1), object(1)\n",
      "memory usage: 711.9+ KB\n"
     ]
    }
   ],
   "source": [
    "walmart_df.info()"
   ]
  },
  {
   "cell_type": "code",
   "execution_count": 14,
   "metadata": {},
   "outputs": [],
   "source": [
    "import matplotlib.pyplot as plt   "
   ]
  },
  {
   "cell_type": "code",
   "execution_count": 15,
   "metadata": {},
   "outputs": [
    {
     "data": {
      "image/png": "[encoded data removed]",
      "text/plain": [
       "<Figure size 576x648 with 10 Axes>"
      ]
     },
     "metadata": {
      "needs_background": "light"
     },
     "output_type": "display_data"
    }
   ],
   "source": [
    "walmart_df.plot(kind='density',subplots=True,sharex=False,figsize=(8,9))\n",
    "plt.show()"
   ]
  },
  {
   "cell_type": "code",
   "execution_count": 16,
   "metadata": {},
   "outputs": [
    {
     "data": {
      "image/png": "[encoded data removed]",
      "text/plain": [
       "<Figure size 648x576 with 10 Axes>"
      ]
     },
     "metadata": {
      "needs_background": "light"
     },
     "output_type": "display_data"
    }
   ],
   "source": [
    "walmart_df.plot(kind='box',subplots=True,sharex=False,sharey=False,figsize=(9,8))\n",
    "plt.show()"
   ]
  },
  {
   "cell_type": "code",
   "execution_count": 17,
   "metadata": {},
   "outputs": [
    {
     "data": {
      "image/png": "[encoded data removed]",
      "text/plain": [
       "<Figure size 432x504 with 2 Axes>"
      ]
     },
     "metadata": {
      "needs_background": "light"
     },
     "output_type": "display_data"
    }
   ],
   "source": [
    "import numpy as np\n",
    "correlations=walmart_df.corr()\n",
    "fig=plt.figure(figsize=(6,7))\n",
    "ax=fig.add_subplot(111)\n",
    "cax=ax.matshow(correlations,vmin=-1,vmax=1)\n",
    "fig.colorbar(cax)\n",
    "ticks=np.arange(0,9,1)\n",
    "ax.set_xticks(ticks)\n",
    "ax.set_yticks(ticks)\n",
    "plt.show()"
   ]
  },
  {
   "cell_type": "code",
   "execution_count": 18,
   "metadata": {},
   "outputs": [
    {
     "data": {
      "text/html": [
       "<div>\n",
       "<style scoped>\n",
       "    .dataframe tbody tr th:only-of-type {\n",
       "        vertical-align: middle;\n",
       "    }\n",
       "\n",
       "    .dataframe tbody tr th {\n",
       "        vertical-align: top;\n",
       "    }\n",
       "\n",
       "    .dataframe thead th {\n",
       "        text-align: right;\n",
       "    }\n",
       "</style>\n",
       "<table border=\"1\" class=\"dataframe\">\n",
       "  <thead>\n",
       "    <tr style=\"text-align: right;\">\n",
       "      <th></th>\n",
       "      <th>Store</th>\n",
       "      <th>Date</th>\n",
       "      <th>Temperature</th>\n",
       "      <th>Fuel_Price</th>\n",
       "      <th>MarkDown1</th>\n",
       "      <th>MarkDown2</th>\n",
       "      <th>MarkDown3</th>\n",
       "      <th>MarkDown4</th>\n",
       "      <th>MarkDown5</th>\n",
       "      <th>CPI</th>\n",
       "      <th>Unemployment</th>\n",
       "      <th>IsHoliday</th>\n",
       "    </tr>\n",
       "  </thead>\n",
       "  <tbody>\n",
       "    <tr>\n",
       "      <th>0</th>\n",
       "      <td>1</td>\n",
       "      <td>2010-02-05</td>\n",
       "      <td>42.31</td>\n",
       "      <td>2.572</td>\n",
       "      <td>7032.371786</td>\n",
       "      <td>3384.176594</td>\n",
       "      <td>1760.10018</td>\n",
       "      <td>3292.935886</td>\n",
       "      <td>4132.216422</td>\n",
       "      <td>211.096358</td>\n",
       "      <td>8.106</td>\n",
       "      <td>False</td>\n",
       "    </tr>\n",
       "    <tr>\n",
       "      <th>1</th>\n",
       "      <td>1</td>\n",
       "      <td>2010-02-12</td>\n",
       "      <td>38.51</td>\n",
       "      <td>2.548</td>\n",
       "      <td>7032.371786</td>\n",
       "      <td>3384.176594</td>\n",
       "      <td>1760.10018</td>\n",
       "      <td>3292.935886</td>\n",
       "      <td>4132.216422</td>\n",
       "      <td>211.242170</td>\n",
       "      <td>8.106</td>\n",
       "      <td>True</td>\n",
       "    </tr>\n",
       "    <tr>\n",
       "      <th>2</th>\n",
       "      <td>1</td>\n",
       "      <td>2010-02-19</td>\n",
       "      <td>39.93</td>\n",
       "      <td>2.514</td>\n",
       "      <td>7032.371786</td>\n",
       "      <td>3384.176594</td>\n",
       "      <td>1760.10018</td>\n",
       "      <td>3292.935886</td>\n",
       "      <td>4132.216422</td>\n",
       "      <td>211.289143</td>\n",
       "      <td>8.106</td>\n",
       "      <td>False</td>\n",
       "    </tr>\n",
       "    <tr>\n",
       "      <th>3</th>\n",
       "      <td>1</td>\n",
       "      <td>2010-02-26</td>\n",
       "      <td>46.63</td>\n",
       "      <td>2.561</td>\n",
       "      <td>7032.371786</td>\n",
       "      <td>3384.176594</td>\n",
       "      <td>1760.10018</td>\n",
       "      <td>3292.935886</td>\n",
       "      <td>4132.216422</td>\n",
       "      <td>211.319643</td>\n",
       "      <td>8.106</td>\n",
       "      <td>False</td>\n",
       "    </tr>\n",
       "    <tr>\n",
       "      <th>4</th>\n",
       "      <td>1</td>\n",
       "      <td>2010-03-05</td>\n",
       "      <td>46.50</td>\n",
       "      <td>2.625</td>\n",
       "      <td>7032.371786</td>\n",
       "      <td>3384.176594</td>\n",
       "      <td>1760.10018</td>\n",
       "      <td>3292.935886</td>\n",
       "      <td>4132.216422</td>\n",
       "      <td>211.350143</td>\n",
       "      <td>8.106</td>\n",
       "      <td>False</td>\n",
       "    </tr>\n",
       "  </tbody>\n",
       "</table>\n",
       "</div>"
      ],
      "text/plain": [
       "   Store        Date  Temperature  Fuel_Price    MarkDown1    MarkDown2  \\\n",
       "0      1  2010-02-05        42.31       2.572  7032.371786  3384.176594   \n",
       "1      1  2010-02-12        38.51       2.548  7032.371786  3384.176594   \n",
       "2      1  2010-02-19        39.93       2.514  7032.371786  3384.176594   \n",
       "3      1  2010-02-26        46.63       2.561  7032.371786  3384.176594   \n",
       "4      1  2010-03-05        46.50       2.625  7032.371786  3384.176594   \n",
       "\n",
       "    MarkDown3    MarkDown4    MarkDown5         CPI  Unemployment  IsHoliday  \n",
       "0  1760.10018  3292.935886  4132.216422  211.096358         8.106      False  \n",
       "1  1760.10018  3292.935886  4132.216422  211.242170         8.106       True  \n",
       "2  1760.10018  3292.935886  4132.216422  211.289143         8.106      False  \n",
       "3  1760.10018  3292.935886  4132.216422  211.319643         8.106      False  \n",
       "4  1760.10018  3292.935886  4132.216422  211.350143         8.106      False  "
      ]
     },
     "execution_count": 18,
     "metadata": {},
     "output_type": "execute_result"
    }
   ],
   "source": [
    "walmart_df.head()"
   ]
  },
  {
   "cell_type": "code",
   "execution_count": 19,
   "metadata": {},
   "outputs": [],
   "source": [
    "fd = walmart_df.to_csv('/home/siddhu/Desktop/btp 2/walmart/new_file.csv')"
   ]
  },
  {
   "cell_type": "code",
   "execution_count": 20,
   "metadata": {},
   "outputs": [],
   "source": [
    "import os\n",
    "import findspark\n",
    "findspark.init('/usr/local/spark')\n",
    "import pyspark\n",
    "from pyspark.sql import SparkSession\n",
    "from pyspark.sql import SQLContext\n",
    "\n",
    "\n",
    "spark = SparkSession \\\n",
    ".builder \\\n",
    ".appName(\"Walmart\") \\\n",
    ".config(\"spark.some.config.option\", \"some-value\") \\\n",
    ".getOrCreate()"
   ]
  },
  {
   "cell_type": "code",
   "execution_count": 21,
   "metadata": {},
   "outputs": [],
   "source": [
    "feature_df = spark.read.csv(\"/home/siddhu/Desktop/btp 2/walmart/new_file.csv\",header=True);\n",
    "train_df = spark.read.csv(\"/home/siddhu/Desktop/btp 2/walmart/train.csv\",header=True);\n",
    "stores_df = spark.read.csv(\"/home/siddhu/Desktop/btp 2/walmart/stores.csv\",header=True);"
   ]
  },
  {
   "cell_type": "code",
   "execution_count": 22,
   "metadata": {},
   "outputs": [
    {
     "data": {
      "text/plain": [
       "[Row(_c0='0', Store='1', Date='2010-02-05', Temperature='42.31', Fuel_Price='2.572', MarkDown1='7032.371785714266', MarkDown2='3384.176593632328', MarkDown3='1760.1001799058915', MarkDown4='3292.935886258671', MarkDown5='4132.216422222234', CPI='211.0963582', Unemployment='8.106', IsHoliday='False'),\n",
       " Row(_c0='1', Store='1', Date='2010-02-12', Temperature='38.51', Fuel_Price='2.548', MarkDown1='7032.371785714266', MarkDown2='3384.176593632328', MarkDown3='1760.1001799058915', MarkDown4='3292.935886258671', MarkDown5='4132.216422222234', CPI='211.24216980000003', Unemployment='8.106', IsHoliday='True'),\n",
       " Row(_c0='2', Store='1', Date='2010-02-19', Temperature='39.93', Fuel_Price='2.5140000000000002', MarkDown1='7032.371785714266', MarkDown2='3384.176593632328', MarkDown3='1760.1001799058915', MarkDown4='3292.935886258671', MarkDown5='4132.216422222234', CPI='211.2891429', Unemployment='8.106', IsHoliday='False'),\n",
       " Row(_c0='3', Store='1', Date='2010-02-26', Temperature='46.63', Fuel_Price='2.5610000000000004', MarkDown1='7032.371785714266', MarkDown2='3384.176593632328', MarkDown3='1760.1001799058915', MarkDown4='3292.935886258671', MarkDown5='4132.216422222234', CPI='211.3196429', Unemployment='8.106', IsHoliday='False'),\n",
       " Row(_c0='4', Store='1', Date='2010-03-05', Temperature='46.5', Fuel_Price='2.625', MarkDown1='7032.371785714266', MarkDown2='3384.176593632328', MarkDown3='1760.1001799058915', MarkDown4='3292.935886258671', MarkDown5='4132.216422222234', CPI='211.3501429', Unemployment='8.106', IsHoliday='False')]"
      ]
     },
     "execution_count": 22,
     "metadata": {},
     "output_type": "execute_result"
    }
   ],
   "source": [
    "feature_df.take(5)"
   ]
  },
  {
   "cell_type": "code",
   "execution_count": 23,
   "metadata": {},
   "outputs": [],
   "source": [
    "train_df=train_df.join(stores_df, ['Store'], how='full')"
   ]
  },
  {
   "cell_type": "code",
   "execution_count": 24,
   "metadata": {},
   "outputs": [],
   "source": [
    "merge_df=feature_df.join(train_df, ['Store','Date'], how='inner')"
   ]
  },
  {
   "cell_type": "code",
   "execution_count": 25,
   "metadata": {},
   "outputs": [
    {
     "data": {
      "text/plain": [
       "[Row(Store='1', Date='2010-02-05', _c0='0', Temperature='42.31', Fuel_Price='2.572', MarkDown1='7032.371785714266', MarkDown2='3384.176593632328', MarkDown3='1760.1001799058915', MarkDown4='3292.935886258671', MarkDown5='4132.216422222234', CPI='211.0963582', Unemployment='8.106', IsHoliday='False', Dept='1', Weekly_Sales='24924.5', IsHoliday='FALSE', Type='A', Size='151315')]"
      ]
     },
     "execution_count": 25,
     "metadata": {},
     "output_type": "execute_result"
    }
   ],
   "source": [
    "merge_df.take(1)"
   ]
  },
  {
   "cell_type": "code",
   "execution_count": 26,
   "metadata": {},
   "outputs": [
    {
     "data": {
      "text/plain": [
       "421570"
      ]
     },
     "execution_count": 26,
     "metadata": {},
     "output_type": "execute_result"
    }
   ],
   "source": [
    "merge_df.count()"
   ]
  },
  {
   "cell_type": "code",
   "execution_count": 27,
   "metadata": {},
   "outputs": [],
   "source": [
    "train, test = merge_df.randomSplit([0.9, 0.1])"
   ]
  },
  {
   "cell_type": "code",
   "execution_count": 28,
   "metadata": {},
   "outputs": [
    {
     "data": {
      "text/plain": [
       "Row(Store='1', Date='2010-02-05', _c0='0', Temperature='42.31', Fuel_Price='2.572', MarkDown1='7032.371785714266', MarkDown2='3384.176593632328', MarkDown3='1760.1001799058915', MarkDown4='3292.935886258671', MarkDown5='4132.216422222234', CPI='211.0963582', Unemployment='8.106', IsHoliday='False', Dept='1', Weekly_Sales='24924.5', IsHoliday='FALSE', Type='A', Size='151315')"
      ]
     },
     "execution_count": 28,
     "metadata": {},
     "output_type": "execute_result"
    }
   ],
   "source": [
    "train.head()"
   ]
  },
  {
   "cell_type": "code",
   "execution_count": 29,
   "metadata": {},
   "outputs": [
    {
     "name": "stdout",
     "output_type": "stream",
     "text": [
      "+-----+------------------+\n",
      "|Store|      Weekly_Sales|\n",
      "+-----+------------------+\n",
      "|    7| 8423.610292244697|\n",
      "|   15| 8965.508823794515|\n",
      "|   11|19230.190565164678|\n",
      "|   29| 8166.912435927573|\n",
      "|   42|11375.124786352084|\n",
      "|    3|  6384.22851576995|\n",
      "|   30| 8693.411340110912|\n",
      "|   34|13430.910159719897|\n",
      "|    8|13117.230583566256|\n",
      "|   22|15121.404587599225|\n",
      "|   28|18774.444617411336|\n",
      "|   16|   7887.7714145592|\n",
      "|   35|13760.869429037539|\n",
      "|   43|   13398.584045462|\n",
      "|    5| 5047.710984520114|\n",
      "|   31| 19645.33147354614|\n",
      "|   18|15726.498412788056|\n",
      "|   27| 24852.13271765216|\n",
      "|   17|13053.781871748486|\n",
      "|   26|14560.095705135427|\n",
      "+-----+------------------+\n",
      "only showing top 20 rows\n",
      "\n"
     ]
    }
   ],
   "source": [
    "from pyspark.sql.functions import mean as _mean\n",
    "train.groupBy('Store').agg(_mean('Weekly_Sales').alias('Weekly_Sales')).show()\n"
   ]
  },
  {
   "cell_type": "code",
   "execution_count": 30,
   "metadata": {},
   "outputs": [
    {
     "name": "stdout",
     "output_type": "stream",
     "text": [
      "+----+------------------+\n",
      "|Dept|      Weekly_Sales|\n",
      "+----+------------------+\n",
      "|  51| 21.87146302250804|\n",
      "|   7|24236.931681904454|\n",
      "|  54|108.62465493283985|\n",
      "|  11|14514.256865541825|\n",
      "|  29|  5672.95806242145|\n",
      "|  42| 5213.744477793197|\n",
      "|  87|13300.857521754268|\n",
      "|   3|11722.046126674797|\n",
      "|  30|  4121.05704430379|\n",
      "|  34|15635.652452123215|\n",
      "|  59| 694.4512191133718|\n",
      "|   8|30240.747993816578|\n",
      "|  22|10813.112974708956|\n",
      "|  28| 615.8559577951607|\n",
      "|  85| 2268.837387814667|\n",
      "|  35| 2923.328416631667|\n",
      "|  52|1928.1979173319128|\n",
      "|  16|14074.891215774065|\n",
      "|  71|  5732.88567691985|\n",
      "|  98|  6875.60209453021|\n",
      "+----+------------------+\n",
      "only showing top 20 rows\n",
      "\n"
     ]
    }
   ],
   "source": [
    "from pyspark.sql.functions import mean as _mean\n",
    "train.groupBy('Dept').agg(_mean('Weekly_Sales').alias('Weekly_Sales')).show()"
   ]
  },
  {
   "cell_type": "code",
   "execution_count": 31,
   "metadata": {},
   "outputs": [
    {
     "data": {
      "text/plain": [
       "421570"
      ]
     },
     "execution_count": 31,
     "metadata": {},
     "output_type": "execute_result"
    }
   ],
   "source": [
    "merge_df.count()"
   ]
  },
  {
   "cell_type": "code",
   "execution_count": 32,
   "metadata": {},
   "outputs": [
    {
     "data": {
      "text/plain": [
       "[Row(Store='1', Date='2010-02-05', _c0='0', Temperature='42.31', Fuel_Price='2.572', MarkDown1='7032.371785714266', MarkDown2='3384.176593632328', MarkDown3='1760.1001799058915', MarkDown4='3292.935886258671', MarkDown5='4132.216422222234', CPI='211.0963582', Unemployment='8.106', IsHoliday='False', Dept='1', Weekly_Sales='24924.5', IsHoliday='FALSE', Type='A', Size='151315'),\n",
       " Row(Store='1', Date='2010-02-12', _c0='1', Temperature='38.51', Fuel_Price='2.548', MarkDown1='7032.371785714266', MarkDown2='3384.176593632328', MarkDown3='1760.1001799058915', MarkDown4='3292.935886258671', MarkDown5='4132.216422222234', CPI='211.24216980000003', Unemployment='8.106', IsHoliday='True', Dept='1', Weekly_Sales='46039.49', IsHoliday='TRUE', Type='A', Size='151315'),\n",
       " Row(Store='1', Date='2010-02-19', _c0='2', Temperature='39.93', Fuel_Price='2.5140000000000002', MarkDown1='7032.371785714266', MarkDown2='3384.176593632328', MarkDown3='1760.1001799058915', MarkDown4='3292.935886258671', MarkDown5='4132.216422222234', CPI='211.2891429', Unemployment='8.106', IsHoliday='False', Dept='1', Weekly_Sales='41595.55', IsHoliday='FALSE', Type='A', Size='151315'),\n",
       " Row(Store='1', Date='2010-02-26', _c0='3', Temperature='46.63', Fuel_Price='2.5610000000000004', MarkDown1='7032.371785714266', MarkDown2='3384.176593632328', MarkDown3='1760.1001799058915', MarkDown4='3292.935886258671', MarkDown5='4132.216422222234', CPI='211.3196429', Unemployment='8.106', IsHoliday='False', Dept='1', Weekly_Sales='19403.54', IsHoliday='FALSE', Type='A', Size='151315'),\n",
       " Row(Store='1', Date='2010-03-05', _c0='4', Temperature='46.5', Fuel_Price='2.625', MarkDown1='7032.371785714266', MarkDown2='3384.176593632328', MarkDown3='1760.1001799058915', MarkDown4='3292.935886258671', MarkDown5='4132.216422222234', CPI='211.3501429', Unemployment='8.106', IsHoliday='False', Dept='1', Weekly_Sales='21827.9', IsHoliday='FALSE', Type='A', Size='151315')]"
      ]
     },
     "execution_count": 32,
     "metadata": {},
     "output_type": "execute_result"
    }
   ],
   "source": [
    "merge_df.take(5)"
   ]
  },
  {
   "cell_type": "code",
   "execution_count": 33,
   "metadata": {},
   "outputs": [],
   "source": [
    "merge_df=merge_df.toPandas()"
   ]
  },
  {
   "cell_type": "code",
   "execution_count": 34,
   "metadata": {},
   "outputs": [],
   "source": [
    "fd1 = merge_df.to_csv('/home/siddhu/Desktop/btp 2/walmart/merge_file.csv')"
   ]
  },
  {
   "cell_type": "code",
   "execution_count": 35,
   "metadata": {},
   "outputs": [],
   "source": [
    "import pandas as pd\n",
    "data = pd.read_csv(\"/home/siddhu/Desktop/btp 2/walmart/merge_file.csv\")\n",
    "data.drop([\"_c0\"], axis = 1, inplace = True) \n",
    "fd1 = data.to_csv('/home/siddhu/Desktop/btp 2/walmart/merge_file1.csv')"
   ]
  },
  {
   "cell_type": "code",
   "execution_count": 36,
   "metadata": {},
   "outputs": [],
   "source": [
    "import pandas as pd\n",
    "final_df1=pd.read_csv(\"/home/siddhu/Desktop/btp 2/walmart/merge_file1.csv\")"
   ]
  },
  {
   "cell_type": "code",
   "execution_count": 37,
   "metadata": {},
   "outputs": [
    {
     "data": {
      "text/html": [
       "<div>\n",
       "<style scoped>\n",
       "    .dataframe tbody tr th:only-of-type {\n",
       "        vertical-align: middle;\n",
       "    }\n",
       "\n",
       "    .dataframe tbody tr th {\n",
       "        vertical-align: top;\n",
       "    }\n",
       "\n",
       "    .dataframe thead th {\n",
       "        text-align: right;\n",
       "    }\n",
       "</style>\n",
       "<table border=\"1\" class=\"dataframe\">\n",
       "  <thead>\n",
       "    <tr style=\"text-align: right;\">\n",
       "      <th></th>\n",
       "      <th>Unnamed: 0</th>\n",
       "      <th>Unnamed: 0.1</th>\n",
       "      <th>Store</th>\n",
       "      <th>Temperature</th>\n",
       "      <th>Fuel_Price</th>\n",
       "      <th>MarkDown1</th>\n",
       "      <th>MarkDown2</th>\n",
       "      <th>MarkDown3</th>\n",
       "      <th>MarkDown4</th>\n",
       "      <th>MarkDown5</th>\n",
       "      <th>CPI</th>\n",
       "      <th>Unemployment</th>\n",
       "      <th>IsHoliday</th>\n",
       "      <th>Dept</th>\n",
       "      <th>Weekly_Sales</th>\n",
       "      <th>IsHoliday.1</th>\n",
       "      <th>Size</th>\n",
       "    </tr>\n",
       "  </thead>\n",
       "  <tbody>\n",
       "    <tr>\n",
       "      <th>Unnamed: 0</th>\n",
       "      <td>1.000000</td>\n",
       "      <td>1.000000</td>\n",
       "      <td>0.999198</td>\n",
       "      <td>-0.053526</td>\n",
       "      <td>0.068573</td>\n",
       "      <td>-0.069204</td>\n",
       "      <td>-0.016912</td>\n",
       "      <td>-0.017024</td>\n",
       "      <td>-0.005678</td>\n",
       "      <td>-0.015843</td>\n",
       "      <td>-0.218301</td>\n",
       "      <td>0.213702</td>\n",
       "      <td>-0.000530</td>\n",
       "      <td>0.045990</td>\n",
       "      <td>-0.082372</td>\n",
       "      <td>-0.000530</td>\n",
       "      <td>-0.175516</td>\n",
       "    </tr>\n",
       "    <tr>\n",
       "      <th>Unnamed: 0.1</th>\n",
       "      <td>1.000000</td>\n",
       "      <td>1.000000</td>\n",
       "      <td>0.999198</td>\n",
       "      <td>-0.053526</td>\n",
       "      <td>0.068573</td>\n",
       "      <td>-0.069204</td>\n",
       "      <td>-0.016912</td>\n",
       "      <td>-0.017024</td>\n",
       "      <td>-0.005678</td>\n",
       "      <td>-0.015843</td>\n",
       "      <td>-0.218301</td>\n",
       "      <td>0.213702</td>\n",
       "      <td>-0.000530</td>\n",
       "      <td>0.045990</td>\n",
       "      <td>-0.082372</td>\n",
       "      <td>-0.000530</td>\n",
       "      <td>-0.175516</td>\n",
       "    </tr>\n",
       "    <tr>\n",
       "      <th>Store</th>\n",
       "      <td>0.999198</td>\n",
       "      <td>0.999198</td>\n",
       "      <td>1.000000</td>\n",
       "      <td>-0.050097</td>\n",
       "      <td>0.065290</td>\n",
       "      <td>-0.071492</td>\n",
       "      <td>-0.017179</td>\n",
       "      <td>-0.017360</td>\n",
       "      <td>-0.006447</td>\n",
       "      <td>-0.015800</td>\n",
       "      <td>-0.211088</td>\n",
       "      <td>0.208552</td>\n",
       "      <td>-0.000548</td>\n",
       "      <td>0.024004</td>\n",
       "      <td>-0.085195</td>\n",
       "      <td>-0.000548</td>\n",
       "      <td>-0.182881</td>\n",
       "    </tr>\n",
       "    <tr>\n",
       "      <th>Temperature</th>\n",
       "      <td>-0.053526</td>\n",
       "      <td>-0.053526</td>\n",
       "      <td>-0.050097</td>\n",
       "      <td>1.000000</td>\n",
       "      <td>0.143859</td>\n",
       "      <td>-0.023452</td>\n",
       "      <td>-0.162464</td>\n",
       "      <td>-0.051196</td>\n",
       "      <td>-0.035113</td>\n",
       "      <td>-0.010817</td>\n",
       "      <td>0.182112</td>\n",
       "      <td>0.096730</td>\n",
       "      <td>-0.155949</td>\n",
       "      <td>0.004437</td>\n",
       "      <td>-0.002312</td>\n",
       "      <td>-0.155949</td>\n",
       "      <td>-0.058313</td>\n",
       "    </tr>\n",
       "    <tr>\n",
       "      <th>Fuel_Price</th>\n",
       "      <td>0.068573</td>\n",
       "      <td>0.068573</td>\n",
       "      <td>0.065290</td>\n",
       "      <td>0.143859</td>\n",
       "      <td>1.000000</td>\n",
       "      <td>0.033128</td>\n",
       "      <td>-0.071678</td>\n",
       "      <td>-0.048856</td>\n",
       "      <td>-0.010492</td>\n",
       "      <td>-0.015979</td>\n",
       "      <td>-0.164210</td>\n",
       "      <td>-0.033853</td>\n",
       "      <td>-0.078281</td>\n",
       "      <td>0.003572</td>\n",
       "      <td>-0.000120</td>\n",
       "      <td>-0.078281</td>\n",
       "      <td>0.003361</td>\n",
       "    </tr>\n",
       "    <tr>\n",
       "      <th>MarkDown1</th>\n",
       "      <td>-0.069204</td>\n",
       "      <td>-0.069204</td>\n",
       "      <td>-0.071492</td>\n",
       "      <td>-0.023452</td>\n",
       "      <td>0.033128</td>\n",
       "      <td>1.000000</td>\n",
       "      <td>0.022222</td>\n",
       "      <td>-0.107828</td>\n",
       "      <td>0.786658</td>\n",
       "      <td>0.161146</td>\n",
       "      <td>-0.032790</td>\n",
       "      <td>0.023242</td>\n",
       "      <td>-0.021931</td>\n",
       "      <td>-0.001359</td>\n",
       "      <td>0.052356</td>\n",
       "      <td>-0.021931</td>\n",
       "      <td>0.206330</td>\n",
       "    </tr>\n",
       "    <tr>\n",
       "      <th>MarkDown2</th>\n",
       "      <td>-0.016912</td>\n",
       "      <td>-0.016912</td>\n",
       "      <td>-0.017179</td>\n",
       "      <td>-0.162464</td>\n",
       "      <td>-0.071678</td>\n",
       "      <td>0.022222</td>\n",
       "      <td>1.000000</td>\n",
       "      <td>-0.048317</td>\n",
       "      <td>-0.006708</td>\n",
       "      <td>-0.007515</td>\n",
       "      <td>-0.020997</td>\n",
       "      <td>0.010714</td>\n",
       "      <td>0.198192</td>\n",
       "      <td>0.000142</td>\n",
       "      <td>0.012994</td>\n",
       "      <td>0.198192</td>\n",
       "      <td>0.051437</td>\n",
       "    </tr>\n",
       "    <tr>\n",
       "      <th>MarkDown3</th>\n",
       "      <td>-0.017024</td>\n",
       "      <td>-0.017024</td>\n",
       "      <td>-0.017360</td>\n",
       "      <td>-0.051196</td>\n",
       "      <td>-0.048856</td>\n",
       "      <td>-0.107828</td>\n",
       "      <td>-0.048317</td>\n",
       "      <td>1.000000</td>\n",
       "      <td>-0.070576</td>\n",
       "      <td>-0.027629</td>\n",
       "      <td>-0.015543</td>\n",
       "      <td>0.012332</td>\n",
       "      <td>0.262991</td>\n",
       "      <td>0.000913</td>\n",
       "      <td>0.035373</td>\n",
       "      <td>0.262991</td>\n",
       "      <td>0.025537</td>\n",
       "    </tr>\n",
       "    <tr>\n",
       "      <th>MarkDown4</th>\n",
       "      <td>-0.005678</td>\n",
       "      <td>-0.005678</td>\n",
       "      <td>-0.006447</td>\n",
       "      <td>-0.035113</td>\n",
       "      <td>-0.010492</td>\n",
       "      <td>0.786658</td>\n",
       "      <td>-0.006708</td>\n",
       "      <td>-0.070576</td>\n",
       "      <td>1.000000</td>\n",
       "      <td>0.106745</td>\n",
       "      <td>-0.027887</td>\n",
       "      <td>0.010433</td>\n",
       "      <td>0.000007</td>\n",
       "      <td>0.002378</td>\n",
       "      <td>0.027356</td>\n",
       "      <td>0.000007</td>\n",
       "      <td>0.086367</td>\n",
       "    </tr>\n",
       "    <tr>\n",
       "      <th>MarkDown5</th>\n",
       "      <td>-0.015843</td>\n",
       "      <td>-0.015843</td>\n",
       "      <td>-0.015800</td>\n",
       "      <td>-0.010817</td>\n",
       "      <td>-0.015979</td>\n",
       "      <td>0.161146</td>\n",
       "      <td>-0.007515</td>\n",
       "      <td>-0.027629</td>\n",
       "      <td>0.106745</td>\n",
       "      <td>1.000000</td>\n",
       "      <td>0.041906</td>\n",
       "      <td>-0.017077</td>\n",
       "      <td>-0.032199</td>\n",
       "      <td>0.000395</td>\n",
       "      <td>0.055712</td>\n",
       "      <td>-0.032199</td>\n",
       "      <td>0.182239</td>\n",
       "    </tr>\n",
       "    <tr>\n",
       "      <th>CPI</th>\n",
       "      <td>-0.218301</td>\n",
       "      <td>-0.218301</td>\n",
       "      <td>-0.211088</td>\n",
       "      <td>0.182112</td>\n",
       "      <td>-0.164210</td>\n",
       "      <td>-0.032790</td>\n",
       "      <td>-0.020997</td>\n",
       "      <td>-0.015543</td>\n",
       "      <td>-0.027887</td>\n",
       "      <td>0.041906</td>\n",
       "      <td>1.000000</td>\n",
       "      <td>-0.299953</td>\n",
       "      <td>-0.001944</td>\n",
       "      <td>-0.007477</td>\n",
       "      <td>-0.020921</td>\n",
       "      <td>-0.001944</td>\n",
       "      <td>-0.003314</td>\n",
       "    </tr>\n",
       "    <tr>\n",
       "      <th>Unemployment</th>\n",
       "      <td>0.213702</td>\n",
       "      <td>0.213702</td>\n",
       "      <td>0.208552</td>\n",
       "      <td>0.096730</td>\n",
       "      <td>-0.033853</td>\n",
       "      <td>0.023242</td>\n",
       "      <td>0.010714</td>\n",
       "      <td>0.012332</td>\n",
       "      <td>0.010433</td>\n",
       "      <td>-0.017077</td>\n",
       "      <td>-0.299953</td>\n",
       "      <td>1.000000</td>\n",
       "      <td>0.010460</td>\n",
       "      <td>0.007837</td>\n",
       "      <td>-0.025864</td>\n",
       "      <td>0.010460</td>\n",
       "      <td>-0.068238</td>\n",
       "    </tr>\n",
       "    <tr>\n",
       "      <th>IsHoliday</th>\n",
       "      <td>-0.000530</td>\n",
       "      <td>-0.000530</td>\n",
       "      <td>-0.000548</td>\n",
       "      <td>-0.155949</td>\n",
       "      <td>-0.078281</td>\n",
       "      <td>-0.021931</td>\n",
       "      <td>0.198192</td>\n",
       "      <td>0.262991</td>\n",
       "      <td>0.000007</td>\n",
       "      <td>-0.032199</td>\n",
       "      <td>-0.001944</td>\n",
       "      <td>0.010460</td>\n",
       "      <td>1.000000</td>\n",
       "      <td>0.000916</td>\n",
       "      <td>0.012774</td>\n",
       "      <td>1.000000</td>\n",
       "      <td>0.000593</td>\n",
       "    </tr>\n",
       "    <tr>\n",
       "      <th>Dept</th>\n",
       "      <td>0.045990</td>\n",
       "      <td>0.045990</td>\n",
       "      <td>0.024004</td>\n",
       "      <td>0.004437</td>\n",
       "      <td>0.003572</td>\n",
       "      <td>-0.001359</td>\n",
       "      <td>0.000142</td>\n",
       "      <td>0.000913</td>\n",
       "      <td>0.002378</td>\n",
       "      <td>0.000395</td>\n",
       "      <td>-0.007477</td>\n",
       "      <td>0.007837</td>\n",
       "      <td>0.000916</td>\n",
       "      <td>1.000000</td>\n",
       "      <td>0.148032</td>\n",
       "      <td>0.000916</td>\n",
       "      <td>-0.002966</td>\n",
       "    </tr>\n",
       "    <tr>\n",
       "      <th>Weekly_Sales</th>\n",
       "      <td>-0.082372</td>\n",
       "      <td>-0.082372</td>\n",
       "      <td>-0.085195</td>\n",
       "      <td>-0.002312</td>\n",
       "      <td>-0.000120</td>\n",
       "      <td>0.052356</td>\n",
       "      <td>0.012994</td>\n",
       "      <td>0.035373</td>\n",
       "      <td>0.027356</td>\n",
       "      <td>0.055712</td>\n",
       "      <td>-0.020921</td>\n",
       "      <td>-0.025864</td>\n",
       "      <td>0.012774</td>\n",
       "      <td>0.148032</td>\n",
       "      <td>1.000000</td>\n",
       "      <td>0.012774</td>\n",
       "      <td>0.243828</td>\n",
       "    </tr>\n",
       "    <tr>\n",
       "      <th>IsHoliday.1</th>\n",
       "      <td>-0.000530</td>\n",
       "      <td>-0.000530</td>\n",
       "      <td>-0.000548</td>\n",
       "      <td>-0.155949</td>\n",
       "      <td>-0.078281</td>\n",
       "      <td>-0.021931</td>\n",
       "      <td>0.198192</td>\n",
       "      <td>0.262991</td>\n",
       "      <td>0.000007</td>\n",
       "      <td>-0.032199</td>\n",
       "      <td>-0.001944</td>\n",
       "      <td>0.010460</td>\n",
       "      <td>1.000000</td>\n",
       "      <td>0.000916</td>\n",
       "      <td>0.012774</td>\n",
       "      <td>1.000000</td>\n",
       "      <td>0.000593</td>\n",
       "    </tr>\n",
       "    <tr>\n",
       "      <th>Size</th>\n",
       "      <td>-0.175516</td>\n",
       "      <td>-0.175516</td>\n",
       "      <td>-0.182881</td>\n",
       "      <td>-0.058313</td>\n",
       "      <td>0.003361</td>\n",
       "      <td>0.206330</td>\n",
       "      <td>0.051437</td>\n",
       "      <td>0.025537</td>\n",
       "      <td>0.086367</td>\n",
       "      <td>0.182239</td>\n",
       "      <td>-0.003314</td>\n",
       "      <td>-0.068238</td>\n",
       "      <td>0.000593</td>\n",
       "      <td>-0.002966</td>\n",
       "      <td>0.243828</td>\n",
       "      <td>0.000593</td>\n",
       "      <td>1.000000</td>\n",
       "    </tr>\n",
       "  </tbody>\n",
       "</table>\n",
       "</div>"
      ],
      "text/plain": [
       "              Unnamed: 0  Unnamed: 0.1     Store  Temperature  Fuel_Price  \\\n",
       "Unnamed: 0      1.000000      1.000000  0.999198    -0.053526    0.068573   \n",
       "Unnamed: 0.1    1.000000      1.000000  0.999198    -0.053526    0.068573   \n",
       "Store           0.999198      0.999198  1.000000    -0.050097    0.065290   \n",
       "Temperature    -0.053526     -0.053526 -0.050097     1.000000    0.143859   \n",
       "Fuel_Price      0.068573      0.068573  0.065290     0.143859    1.000000   \n",
       "MarkDown1      -0.069204     -0.069204 -0.071492    -0.023452    0.033128   \n",
       "MarkDown2      -0.016912     -0.016912 -0.017179    -0.162464   -0.071678   \n",
       "MarkDown3      -0.017024     -0.017024 -0.017360    -0.051196   -0.048856   \n",
       "MarkDown4      -0.005678     -0.005678 -0.006447    -0.035113   -0.010492   \n",
       "MarkDown5      -0.015843     -0.015843 -0.015800    -0.010817   -0.015979   \n",
       "CPI            -0.218301     -0.218301 -0.211088     0.182112   -0.164210   \n",
       "Unemployment    0.213702      0.213702  0.208552     0.096730   -0.033853   \n",
       "IsHoliday      -0.000530     -0.000530 -0.000548    -0.155949   -0.078281   \n",
       "Dept            0.045990      0.045990  0.024004     0.004437    0.003572   \n",
       "Weekly_Sales   -0.082372     -0.082372 -0.085195    -0.002312   -0.000120   \n",
       "IsHoliday.1    -0.000530     -0.000530 -0.000548    -0.155949   -0.078281   \n",
       "Size           -0.175516     -0.175516 -0.182881    -0.058313    0.003361   \n",
       "\n",
       "              MarkDown1  MarkDown2  MarkDown3  MarkDown4  MarkDown5       CPI  \\\n",
       "Unnamed: 0    -0.069204  -0.016912  -0.017024  -0.005678  -0.015843 -0.218301   \n",
       "Unnamed: 0.1  -0.069204  -0.016912  -0.017024  -0.005678  -0.015843 -0.218301   \n",
       "Store         -0.071492  -0.017179  -0.017360  -0.006447  -0.015800 -0.211088   \n",
       "Temperature   -0.023452  -0.162464  -0.051196  -0.035113  -0.010817  0.182112   \n",
       "Fuel_Price     0.033128  -0.071678  -0.048856  -0.010492  -0.015979 -0.164210   \n",
       "MarkDown1      1.000000   0.022222  -0.107828   0.786658   0.161146 -0.032790   \n",
       "MarkDown2      0.022222   1.000000  -0.048317  -0.006708  -0.007515 -0.020997   \n",
       "MarkDown3     -0.107828  -0.048317   1.000000  -0.070576  -0.027629 -0.015543   \n",
       "MarkDown4      0.786658  -0.006708  -0.070576   1.000000   0.106745 -0.027887   \n",
       "MarkDown5      0.161146  -0.007515  -0.027629   0.106745   1.000000  0.041906   \n",
       "CPI           -0.032790  -0.020997  -0.015543  -0.027887   0.041906  1.000000   \n",
       "Unemployment   0.023242   0.010714   0.012332   0.010433  -0.017077 -0.299953   \n",
       "IsHoliday     -0.021931   0.198192   0.262991   0.000007  -0.032199 -0.001944   \n",
       "Dept          -0.001359   0.000142   0.000913   0.002378   0.000395 -0.007477   \n",
       "Weekly_Sales   0.052356   0.012994   0.035373   0.027356   0.055712 -0.020921   \n",
       "IsHoliday.1   -0.021931   0.198192   0.262991   0.000007  -0.032199 -0.001944   \n",
       "Size           0.206330   0.051437   0.025537   0.086367   0.182239 -0.003314   \n",
       "\n",
       "              Unemployment  IsHoliday      Dept  Weekly_Sales  IsHoliday.1  \\\n",
       "Unnamed: 0        0.213702  -0.000530  0.045990     -0.082372    -0.000530   \n",
       "Unnamed: 0.1      0.213702  -0.000530  0.045990     -0.082372    -0.000530   \n",
       "Store             0.208552  -0.000548  0.024004     -0.085195    -0.000548   \n",
       "Temperature       0.096730  -0.155949  0.004437     -0.002312    -0.155949   \n",
       "Fuel_Price       -0.033853  -0.078281  0.003572     -0.000120    -0.078281   \n",
       "MarkDown1         0.023242  -0.021931 -0.001359      0.052356    -0.021931   \n",
       "MarkDown2         0.010714   0.198192  0.000142      0.012994     0.198192   \n",
       "MarkDown3         0.012332   0.262991  0.000913      0.035373     0.262991   \n",
       "MarkDown4         0.010433   0.000007  0.002378      0.027356     0.000007   \n",
       "MarkDown5        -0.017077  -0.032199  0.000395      0.055712    -0.032199   \n",
       "CPI              -0.299953  -0.001944 -0.007477     -0.020921    -0.001944   \n",
       "Unemployment      1.000000   0.010460  0.007837     -0.025864     0.010460   \n",
       "IsHoliday         0.010460   1.000000  0.000916      0.012774     1.000000   \n",
       "Dept              0.007837   0.000916  1.000000      0.148032     0.000916   \n",
       "Weekly_Sales     -0.025864   0.012774  0.148032      1.000000     0.012774   \n",
       "IsHoliday.1       0.010460   1.000000  0.000916      0.012774     1.000000   \n",
       "Size             -0.068238   0.000593 -0.002966      0.243828     0.000593   \n",
       "\n",
       "                  Size  \n",
       "Unnamed: 0   -0.175516  \n",
       "Unnamed: 0.1 -0.175516  \n",
       "Store        -0.182881  \n",
       "Temperature  -0.058313  \n",
       "Fuel_Price    0.003361  \n",
       "MarkDown1     0.206330  \n",
       "MarkDown2     0.051437  \n",
       "MarkDown3     0.025537  \n",
       "MarkDown4     0.086367  \n",
       "MarkDown5     0.182239  \n",
       "CPI          -0.003314  \n",
       "Unemployment -0.068238  \n",
       "IsHoliday     0.000593  \n",
       "Dept         -0.002966  \n",
       "Weekly_Sales  0.243828  \n",
       "IsHoliday.1   0.000593  \n",
       "Size          1.000000  "
      ]
     },
     "execution_count": 37,
     "metadata": {},
     "output_type": "execute_result"
    }
   ],
   "source": [
    "final_df1.corr()"
   ]
  },
  {
   "cell_type": "code",
   "execution_count": 38,
   "metadata": {},
   "outputs": [],
   "source": [
    "spark.stop()"
   ]
  },
  {
   "cell_type": "code",
   "execution_count": 39,
   "metadata": {},
   "outputs": [],
   "source": [
    "from pyspark import SparkConf, SparkContext\n",
    "from pyspark.sql import SQLContext\n",
    "sc= SparkContext()\n",
    "sqlContext = SQLContext(sc)\n",
    "\n",
    "house_df = sqlContext.read.format('com.databricks.spark.csv').options(header='true', inferschema='true').load('/home/siddhu/Desktop/btp 2/walmart/merge_file1.csv')"
   ]
  },
  {
   "cell_type": "code",
   "execution_count": 40,
   "metadata": {},
   "outputs": [
    {
     "name": "stdout",
     "output_type": "stream",
     "text": [
      "root\n",
      " |-- _c0: integer (nullable = true)\n",
      " |-- Unnamed: 0: integer (nullable = true)\n",
      " |-- Store: integer (nullable = true)\n",
      " |-- Date: timestamp (nullable = true)\n",
      " |-- Temperature: double (nullable = true)\n",
      " |-- Fuel_Price: double (nullable = true)\n",
      " |-- MarkDown1: double (nullable = true)\n",
      " |-- MarkDown2: double (nullable = true)\n",
      " |-- MarkDown3: double (nullable = true)\n",
      " |-- MarkDown4: double (nullable = true)\n",
      " |-- MarkDown5: double (nullable = true)\n",
      " |-- CPI: double (nullable = true)\n",
      " |-- Unemployment: double (nullable = true)\n",
      " |-- IsHoliday: boolean (nullable = true)\n",
      " |-- Dept: integer (nullable = true)\n",
      " |-- Weekly_Sales: double (nullable = true)\n",
      " |-- IsHoliday.1: boolean (nullable = true)\n",
      " |-- Type: string (nullable = true)\n",
      " |-- Size: integer (nullable = true)\n",
      "\n"
     ]
    }
   ],
   "source": [
    "house_df.printSchema()"
   ]
  },
  {
   "cell_type": "code",
   "execution_count": 41,
   "metadata": {},
   "outputs": [
    {
     "data": {
      "text/plain": [
       "['_c0',\n",
       " 'Unnamed: 0',\n",
       " 'Store',\n",
       " 'Date',\n",
       " 'Temperature',\n",
       " 'Fuel_Price',\n",
       " 'MarkDown1',\n",
       " 'MarkDown2',\n",
       " 'MarkDown3',\n",
       " 'MarkDown4',\n",
       " 'MarkDown5',\n",
       " 'CPI',\n",
       " 'Unemployment',\n",
       " 'IsHoliday',\n",
       " 'Dept',\n",
       " 'Weekly_Sales',\n",
       " 'IsHoliday.1',\n",
       " 'Type',\n",
       " 'Size']"
      ]
     },
     "execution_count": 41,
     "metadata": {},
     "output_type": "execute_result"
    }
   ],
   "source": [
    "house_df.columns"
   ]
  },
  {
   "cell_type": "code",
   "execution_count": 42,
   "metadata": {},
   "outputs": [
    {
     "name": "stdout",
     "output_type": "stream",
     "text": [
      "+--------------------+------------+\n",
      "|            features|Weekly_Sales|\n",
      "+--------------------+------------+\n",
      "|[0.0,0.0,1.0,42.3...|     24924.5|\n",
      "|[1.0,1.0,1.0,38.5...|    46039.49|\n",
      "|[2.0,2.0,1.0,39.9...|    41595.55|\n",
      "+--------------------+------------+\n",
      "only showing top 3 rows\n",
      "\n"
     ]
    }
   ],
   "source": [
    "from pyspark.ml.feature import VectorAssembler\n",
    "\n",
    "vectorAssembler = VectorAssembler(inputCols = ['_c0',\n",
    " 'Unnamed: 0',\n",
    " 'Store',\n",
    " 'Temperature',\n",
    " 'Fuel_Price',\n",
    " 'MarkDown1',\n",
    " 'MarkDown2',\n",
    " 'MarkDown3',\n",
    " 'MarkDown4',\n",
    " 'MarkDown5',\n",
    " 'CPI',\n",
    " 'Unemployment',\n",
    " 'Dept',\n",
    " 'Weekly_Sales',                                             \n",
    " 'Size'], outputCol = 'features')\n",
    "vfinal_df = vectorAssembler.transform(house_df)\n",
    "vfinal_df = vfinal_df.select(['features', 'Weekly_Sales'])\n",
    "vfinal_df.show(3)"
   ]
  },
  {
   "cell_type": "code",
   "execution_count": 43,
   "metadata": {},
   "outputs": [],
   "source": [
    "splits = vfinal_df.randomSplit([0.7, 0.3])\n",
    "train_df = splits[0]\n",
    "test_df = splits[1]\n"
   ]
  },
  {
   "cell_type": "code",
   "execution_count": 44,
   "metadata": {},
   "outputs": [],
   "source": [
    "from pyspark.ml.regression import LinearRegression\n",
    "\n",
    "lr = LinearRegression(featuresCol = 'features', labelCol='Weekly_Sales', maxIter=10, regParam=0.3, elasticNetParam=0.8)\n",
    "lr_model = lr.fit(train_df)"
   ]
  },
  {
   "cell_type": "code",
   "execution_count": 45,
   "metadata": {},
   "outputs": [
    {
     "name": "stdout",
     "output_type": "stream",
     "text": [
      "RMSE: 5112.681903\n",
      "r2: 1.000000\n"
     ]
    }
   ],
   "source": [
    "trainingSummary = lr_model.summary\n",
    "rmse=trainingSummary.rootMeanSquaredError\n",
    "rmse=rmse*1000\n",
    "print(\"RMSE: %f\" % rmse)\n",
    "print(\"r2: %f\" % trainingSummary.r2)"
   ]
  },
  {
   "cell_type": "code",
   "execution_count": 46,
   "metadata": {},
   "outputs": [
    {
     "name": "stdout",
     "output_type": "stream",
     "text": [
      "+-------+------------------+\n",
      "|summary|      Weekly_Sales|\n",
      "+-------+------------------+\n",
      "|  count|            294618|\n",
      "|   mean|15996.523124045634|\n",
      "| stddev| 22754.90972235206|\n",
      "|    min|           -3924.0|\n",
      "|    max|         693099.36|\n",
      "+-------+------------------+\n",
      "\n"
     ]
    }
   ],
   "source": [
    "train_df.describe().show()"
   ]
  },
  {
   "cell_type": "code",
   "execution_count": 47,
   "metadata": {},
   "outputs": [
    {
     "name": "stdout",
     "output_type": "stream",
     "text": [
      "+------------------+------------+--------------------+\n",
      "|        prediction|Weekly_Sales|            features|\n",
      "+------------------+------------+--------------------+\n",
      "| 57257.15333505518|    57258.43|[8.0,8.0,1.0,62.2...|\n",
      "|17597.291372061307|    17596.96|[10.0,10.0,1.0,66...|\n",
      "|16145.763745828559|    16145.35|[11.0,11.0,1.0,64...|\n",
      "| 18926.94659213617|    18926.74|[14.0,14.0,1.0,74...|\n",
      "| 14773.46899214969|    14773.04|[15.0,15.0,1.0,76...|\n",
      "+------------------+------------+--------------------+\n",
      "only showing top 5 rows\n",
      "\n",
      "R Squared (R2) on test data = 1\n"
     ]
    }
   ],
   "source": [
    "lr_predictions = lr_model.transform(test_df)\n",
    "lr_predictions.select(\"prediction\",\"Weekly_Sales\",\"features\").show(5)\n",
    "\n",
    "from pyspark.ml.evaluation import RegressionEvaluator\n",
    "lr_evaluator = RegressionEvaluator(predictionCol=\"prediction\", \\\n",
    "                 labelCol=\"Weekly_Sales\",metricName=\"r2\")\n",
    "print(\"R Squared (R2) on test data = %g\" % lr_evaluator.evaluate(lr_predictions))"
   ]
  },
  {
   "cell_type": "code",
   "execution_count": 50,
   "metadata": {},
   "outputs": [
    {
     "name": "stdout",
     "output_type": "stream",
     "text": [
      "numIterations: 11\n",
      "objectiveHistory: [0.5, 0.3963307870454577, 0.09365389979003745, 0.024728447060582245, 0.00031491691805607543, 2.655939237962157e-05, 1.5445125742519975e-05, 1.2602193285282857e-05, 1.2245367028884567e-05, 1.195458725589745e-05, 1.1898560698408796e-05]\n",
      "+--------------------+\n",
      "|           residuals|\n",
      "+--------------------+\n",
      "| -0.3519173634740582|\n",
      "|   0.537996617727913|\n",
      "|  0.2942066566392896|\n",
      "| -0.6095963766711066|\n",
      "|-0.41084367974326597|\n",
      "|-0.38443626113803475|\n",
      "| -0.2598871798873006|\n",
      "| -0.0633112994946714|\n",
      "|  0.7243519503317657|\n",
      "| -0.4175027774144837|\n",
      "| -0.3003256494666857|\n",
      "|-0.49056517915596487|\n",
      "|-0.48208444526972016|\n",
      "| -0.5759201901673805|\n",
      "| -0.6392190392762132|\n",
      "| -0.5675045391253661|\n",
      "| -0.6185476230493805|\n",
      "| -0.7186501202813815|\n",
      "| -0.6714198720619606|\n",
      "| -0.5894222696151701|\n",
      "+--------------------+\n",
      "only showing top 20 rows\n",
      "\n"
     ]
    }
   ],
   "source": [
    "print(\"numIterations: %d\" % trainingSummary.totalIterations)\n",
    "print(\"objectiveHistory: %s\" % str(trainingSummary.objectiveHistory))\n",
    "trainingSummary.residuals.show()"
   ]
  },
  {
   "cell_type": "code",
   "execution_count": 51,
   "metadata": {},
   "outputs": [
    {
     "name": "stdout",
     "output_type": "stream",
     "text": [
      "+------------------+------------+--------------------+\n",
      "|        prediction|Weekly_Sales|            features|\n",
      "+------------------+------------+--------------------+\n",
      "| 57257.15333505518|    57258.43|[8.0,8.0,1.0,62.2...|\n",
      "|17597.291372061307|    17596.96|[10.0,10.0,1.0,66...|\n",
      "|16145.763745828559|    16145.35|[11.0,11.0,1.0,64...|\n",
      "| 18926.94659213617|    18926.74|[14.0,14.0,1.0,74...|\n",
      "| 14773.46899214969|    14773.04|[15.0,15.0,1.0,76...|\n",
      "|16329.331147580495|    16328.72|[20.0,20.0,1.0,84...|\n",
      "|16333.727806803525|    16333.14|[21.0,21.0,1.0,80...|\n",
      "|  17509.0071026677|    17508.41|[26.0,26.0,1.0,87...|\n",
      "|  15794.5537567495|    15793.87|[29.0,29.0,1.0,85...|\n",
      "|18195.396743461235|    18194.74|[31.0,31.0,1.0,78...|\n",
      "| 25543.14348589954|    25543.04|[37.0,37.0,1.0,69...|\n",
      "| 31497.32202010456|    31497.65|[44.0,44.0,1.0,46...|\n",
      "| 55929.76985459212|    55931.23|[46.0,46.0,1.0,52...|\n",
      "| 18461.18129378971|    18461.18|[51.0,51.0,1.0,43...|\n",
      "| 21665.65134453475|    21665.76|[52.0,52.0,1.0,42...|\n",
      "| 46844.57768102228|    46845.87|[54.0,54.0,1.0,57...|\n",
      "|21279.628269939265|     21280.4|[57.0,57.0,1.0,53...|\n",
      "|20333.457748802906|    20334.23|[58.0,58.0,1.0,62...|\n",
      "|50507.754827057746|    50510.31|[63.0,63.0,1.0,72...|\n",
      "|15882.711175143999|    15883.52|[70.0,70.0,1.0,83...|\n",
      "+------------------+------------+--------------------+\n",
      "only showing top 20 rows\n",
      "\n"
     ]
    }
   ],
   "source": [
    "predictions = lr_model.transform(test_df)\n",
    "predictions.select(\"prediction\",\"Weekly_Sales\",\"features\").show()"
   ]
  },
  {
   "cell_type": "code",
   "execution_count": 52,
   "metadata": {},
   "outputs": [
    {
     "data": {
      "text/plain": [
       "[Row(features=DenseVector([8.0, 8.0, 1.0, 62.27, 2.719, 7032.3718, 3384.1766, 1760.1002, 3292.9359, 4132.2164, 210.8204, 7.808, 1.0, 57258.43, 151315.0]), Weekly_Sales=57258.43, prediction=57257.15333505518),\n",
       " Row(features=DenseVector([10.0, 10.0, 1.0, 66.32, 2.808, 7032.3718, 3384.1766, 1760.1002, 3292.9359, 4132.2164, 210.4887, 7.808, 1.0, 17596.96, 151315.0]), Weekly_Sales=17596.96, prediction=17597.291372061307),\n",
       " Row(features=DenseVector([11.0, 11.0, 1.0, 64.84, 2.795, 7032.3718, 3384.1766, 1760.1002, 3292.9359, 4132.2164, 210.4391, 7.808, 1.0, 16145.35, 151315.0]), Weekly_Sales=16145.35, prediction=16145.763745828559),\n",
       " Row(features=DenseVector([14.0, 14.0, 1.0, 74.78, 2.854, 7032.3718, 3384.1766, 1760.1002, 3292.9359, 4132.2164, 210.3374, 7.808, 1.0, 18926.74, 151315.0]), Weekly_Sales=18926.74, prediction=18926.94659213617),\n",
       " Row(features=DenseVector([15.0, 15.0, 1.0, 76.44, 2.826, 7032.3718, 3384.1766, 1760.1002, 3292.9359, 4132.2164, 210.6171, 7.808, 1.0, 14773.04, 151315.0]), Weekly_Sales=14773.04, prediction=14773.46899214969)]"
      ]
     },
     "execution_count": 52,
     "metadata": {},
     "output_type": "execute_result"
    }
   ],
   "source": [
    "predictions.take(5)"
   ]
  },
  {
   "cell_type": "code",
   "execution_count": 53,
   "metadata": {},
   "outputs": [],
   "source": [
    "predictions=predictions.toPandas()"
   ]
  },
  {
   "cell_type": "code",
   "execution_count": 54,
   "metadata": {},
   "outputs": [
    {
     "name": "stdout",
     "output_type": "stream",
     "text": [
      "+------------------+------------+--------------------+\n",
      "|        prediction|Weekly_Sales|            features|\n",
      "+------------------+------------+--------------------+\n",
      "| 63897.94592651582|    57258.43|[8.0,8.0,1.0,62.2...|\n",
      "|16958.812100040614|    17596.96|[10.0,10.0,1.0,66...|\n",
      "|16958.812100040614|    16145.35|[11.0,11.0,1.0,64...|\n",
      "|19243.355324485452|    18926.74|[14.0,14.0,1.0,74...|\n",
      "|15039.297820374934|    14773.04|[15.0,15.0,1.0,76...|\n",
      "+------------------+------------+--------------------+\n",
      "only showing top 5 rows\n",
      "\n",
      "Root Mean Squared Error (RMSE) on test data = 4553.98\n"
     ]
    }
   ],
   "source": [
    "from pyspark.ml.regression import GBTRegressor\n",
    "gbt = GBTRegressor(featuresCol = 'features', labelCol = 'Weekly_Sales', maxIter=10)\n",
    "gbt_model = gbt.fit(train_df)\n",
    "gbt_predictions = gbt_model.transform(test_df)\n",
    "gbt_predictions.select('prediction', 'Weekly_Sales', 'features').show(5)\n",
    "gbt_evaluator = RegressionEvaluator(\n",
    "    labelCol=\"Weekly_Sales\", predictionCol=\"prediction\", metricName=\"rmse\")\n",
    "rmse = gbt_evaluator.evaluate(gbt_predictions)\n",
    "print(\"Root Mean Squared Error (RMSE) on test data = %g\" % rmse)"
   ]
  },
  {
   "cell_type": "code",
   "execution_count": 55,
   "metadata": {},
   "outputs": [],
   "source": [
    "import pandas as pd\n",
    "p1=pd.read_csv(\"/home/siddhu/Desktop/btp 2/walmart/predictions.csv\")"
   ]
  },
  {
   "cell_type": "code",
   "execution_count": 56,
   "metadata": {},
   "outputs": [
    {
     "data": {
      "image/png": "[encoded data removed]",
      "text/plain": [
       "<Figure size 432x288 with 1 Axes>"
      ]
     },
     "metadata": {
      "needs_background": "light"
     },
     "output_type": "display_data"
    }
   ],
   "source": [
    "import matplotlib.pyplot as plt\n",
    "plt.plot(p1['index'], p1['Predictons'], color='g')\n",
    "plt.plot(p1['index'], p1['Weekly_Sales'], color='orange')\n",
    "plt.xlabel('Predictions')\n",
    "plt.ylabel('weekly Sales')\n",
    "plt.title('Weekly Sales vs Predictions')\n",
    "plt.show()"
   ]
  },
  {
   "cell_type": "code",
   "execution_count": 58,
   "metadata": {},
   "outputs": [
    {
     "name": "stdout",
     "output_type": "stream",
     "text": [
      "+------------------+------------+--------------------+\n",
      "|        prediction|Weekly_Sales|            features|\n",
      "+------------------+------------+--------------------+\n",
      "| 63189.62055363321|    57258.43|[8.0,8.0,1.0,62.2...|\n",
      "|18371.690576069177|    17596.96|[10.0,10.0,1.0,66...|\n",
      "|16415.518634528897|    16145.35|[11.0,11.0,1.0,64...|\n",
      "|18371.690576069177|    18926.74|[14.0,14.0,1.0,74...|\n",
      "|14579.534414762358|    14773.04|[15.0,15.0,1.0,76...|\n",
      "+------------------+------------+--------------------+\n",
      "only showing top 5 rows\n",
      "\n"
     ]
    }
   ],
   "source": [
    "from pyspark.ml.regression import DecisionTreeRegressor\n",
    "\n",
    "dt = DecisionTreeRegressor(featuresCol ='features', labelCol = 'Weekly_Sales')\n",
    "dt_model = dt.fit(train_df)\n",
    "dt_predictions = dt_model.transform(test_df)\n",
    "dt_predictions.select('prediction', 'Weekly_Sales', 'features').show(5)\n",
    "dt_evaluator = RegressionEvaluator(\n",
    "    labelCol=\"Weekly_Sales\", predictionCol=\"prediction\", metricName=\"rmse\")\n",
    "rmse = dt_evaluator.evaluate(dt_predictions)\n"
   ]
  },
  {
   "cell_type": "code",
   "execution_count": 59,
   "metadata": {},
   "outputs": [
    {
     "name": "stdout",
     "output_type": "stream",
     "text": [
      "+------------------+------------+--------------------+\n",
      "|        prediction|Weekly_Sales|            features|\n",
      "+------------------+------------+--------------------+\n",
      "| 63189.62055363321|    57258.43|[8.0,8.0,1.0,62.2...|\n",
      "|18371.690576069177|    17596.96|[10.0,10.0,1.0,66...|\n",
      "|16415.518634528897|    16145.35|[11.0,11.0,1.0,64...|\n",
      "|18371.690576069177|    18926.74|[14.0,14.0,1.0,74...|\n",
      "|14579.534414762358|    14773.04|[15.0,15.0,1.0,76...|\n",
      "+------------------+------------+--------------------+\n",
      "only showing top 5 rows\n",
      "\n"
     ]
    }
   ],
   "source": [
    "from pyspark.ml.linalg import Vectors\n",
    "from pyspark.ml.feature import VectorAssembler\n",
    "from pyspark.ml.classification import LogisticRegression\n",
    "\n",
    " \n",
    "assembler=VectorAssembler(inputCols=['_c0',\n",
    " 'Unnamed: 0',\n",
    " 'Store',\n",
    " 'Temperature',\n",
    " 'Fuel_Price',\n",
    " 'MarkDown1',\n",
    " 'MarkDown2',\n",
    " 'MarkDown3',\n",
    " 'MarkDown4',\n",
    " 'MarkDown5',\n",
    " 'CPI',\n",
    " 'Unemployment',\n",
    " 'Dept',                                             \n",
    " 'Size'],outputCol='features')\n",
    " \n",
    "output_data=assembler.transform(house_df)\n",
    "final_data=output_data.select('features','Weekly_Sales')         \n",
    " \n",
    "train,test=final_data.randomSplit([0.7,0.3])\n",
    "\n",
    " \n",
    "model=LogisticRegression(labelCol='Weekly_Sales')         \n",
    " \n",
    "dt_predictions.select('prediction', 'Weekly_Sales', 'features').show(5)"
   ]
  },
  {
   "cell_type": "code",
   "execution_count": null,
   "metadata": {},
   "outputs": [],
   "source": []
  }
 ],
 "metadata": {
  "kernelspec": {
   "display_name": "Python 3",
   "language": "python",
   "name": "python3"
  },
  "language_info": {
   "codemirror_mode": {
    "name": "ipython",
    "version": 3
   },
   "file_extension": ".py",
   "mimetype": "text/x-python",
   "name": "python",
   "nbconvert_exporter": "python",
   "pygments_lexer": "ipython3",
   "version": "3.7.1"
  }
 },
 "nbformat": 4,
 "nbformat_minor": 2
}
